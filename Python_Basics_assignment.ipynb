{
 "cells": [
  {
   "cell_type": "markdown",
   "id": "6c388921",
   "metadata": {},
   "source": [
    "### Q1: What is Python, and why is it popular?\n",
    "Python is a high-level, interpreted programming language known for its simplicity, readability, and versatility.\n",
    "It is popular because of its large community, extensive libraries, and wide range of applications such as web development, data science, AI, automation, and more."
   ]
  },
  {
   "cell_type": "markdown",
   "id": "d2bc5ab5",
   "metadata": {},
   "source": [
    "### Q2: What is an interpreter in Python?\n",
    "The interpreter in Python executes code line by line.\n",
    "It converts Python source code (.py files) into bytecode, which is then executed by the Python Virtual Machine (PVM)."
   ]
  },
  {
   "cell_type": "markdown",
   "id": "5740ce3f",
   "metadata": {},
   "source": [
    "### Q3: What are pre-defined keywords in Python?\n",
    "Pre-defined keywords are reserved words in Python that have special meanings and cannot be used as variable names.\n",
    "Example: if, else, while, for, def, class."
   ]
  },
  {
   "cell_type": "markdown",
   "id": "a026e26d",
   "metadata": {},
   "source": [
    "### Q4: Can keywords be used as variable names?\n",
    "No, keywords cannot be used as variable names because they are reserved by Python syntax."
   ]
  },
  {
   "cell_type": "markdown",
   "id": "7c71c4c1",
   "metadata": {},
   "source": [
    "### Q5: What is mutability in Python?\n",
    "Mutability means the ability of an object to be changed after it is created.\n",
    "Example: Lists are mutable, but Tuples are immutable."
   ]
  },
  {
   "cell_type": "markdown",
   "id": "8ef2688e",
   "metadata": {},
   "source": [
    "### Q6: Why are lists mutable, but tuples are immutable?\n",
    "Lists are mutable because their elements can be modified, added, or removed after creation.\n",
    "Tuples are immutable because once created, their elements cannot be changed."
   ]
  },
  {
   "cell_type": "markdown",
   "id": "1bf93fcd",
   "metadata": {},
   "source": [
    "### Q7: Difference between '==' and 'is' operators in Python?\n",
    "'==' checks for equality of values.\n",
    "'is' checks if two variables point to the same object in memory."
   ]
  },
  {
   "cell_type": "markdown",
   "id": "463327da",
   "metadata": {},
   "source": [
    "### Q8: What are logical operators in Python?\n",
    "Logical operators are used to combine conditional statements.\n",
    "They are: and, or, not"
   ]
  },
  {
   "cell_type": "markdown",
   "id": "dcac38f4",
   "metadata": {},
   "source": [
    "### Q9: What is type casting in Python?\n",
    "Type casting is converting one data type into another."
   ]
  },
  {
   "cell_type": "markdown",
   "id": "9b3eac16",
   "metadata": {},
   "source": [
    "### Q10: Difference between implicit and explicit type casting?\n",
    "Implicit casting: Python automatically converts one data type to another (e.g., int → float).\n",
    "Explicit casting: Programmer manually converts data type using functions like int(), float(), str()."
   ]
  },
  {
   "cell_type": "markdown",
   "id": "8b0a05c7",
   "metadata": {},
   "source": [
    "### Q11: Purpose of conditional statements in Python?\n",
    "Conditional statements allow decision-making in a program by executing different code blocks based on conditions (if, elif, else)."
   ]
  },
  {
   "cell_type": "markdown",
   "id": "3867620e",
   "metadata": {},
   "source": [
    "### Q12: How does the elif statement work?\n",
    "'elif' checks another condition if the previous 'if' was False.\n",
    "It allows multiple conditions to be tested sequentially."
   ]
  },
  {
   "cell_type": "markdown",
   "id": "5dd0ee03",
   "metadata": {},
   "source": [
    "### Q13: Difference between for and while loops?\n",
    "for loop: Iterates over a sequence (like list, range, string) for a known number of times.\n",
    "while loop: Executes repeatedly as long as the condition is True."
   ]
  },
  {
   "cell_type": "markdown",
   "id": "a4d1e170",
   "metadata": {},
   "source": [
    "### Q14: Scenario where a while loop is better than a for loop?\n",
    "A while loop is better when the number of iterations is not known in advance.\n",
    "Example: Keep asking user input until they enter 'quit'."
   ]
  },
  {
   "cell_type": "markdown",
   "id": "150e6bb9",
   "metadata": {},
   "source": [
    "### Q1: Print Hello World"
   ]
  },
  {
   "cell_type": "code",
   "execution_count": null,
   "id": "00faeebb",
   "metadata": {},
   "outputs": [],
   "source": [
    "print(\"Hello, World!\")"
   ]
  },
  {
   "cell_type": "markdown",
   "id": "500f9dc4",
   "metadata": {},
   "source": [
    "### Q2: Display your name and age"
   ]
  },
  {
   "cell_type": "code",
   "execution_count": null,
   "id": "a0fe23d9",
   "metadata": {},
   "outputs": [],
   "source": [
    "name = \"Ankush\"\n",
    "age = 20\n",
    "print(\"Name:\", name)\n",
    "print(\"Age:\", age)"
   ]
  },
  {
   "cell_type": "markdown",
   "id": "f9cfaab7",
   "metadata": {},
   "source": [
    "### Q3: Print all pre-defined keywords"
   ]
  },
  {
   "cell_type": "code",
   "execution_count": null,
   "id": "d9b63fa2",
   "metadata": {},
   "outputs": [],
   "source": [
    "import keyword\n",
    "print(keyword.kwlist)"
   ]
  },
  {
   "cell_type": "markdown",
   "id": "9f8d2263",
   "metadata": {},
   "source": [
    "### Q4: Check if a word is a Python keyword"
   ]
  },
  {
   "cell_type": "code",
   "execution_count": null,
   "id": "340ba870",
   "metadata": {},
   "outputs": [],
   "source": [
    "import keyword\n",
    "word = input(\"Enter a word: \")\n",
    "print(word, \"is a keyword?\", keyword.iskeyword(word))"
   ]
  },
  {
   "cell_type": "markdown",
   "id": "053126b1",
   "metadata": {},
   "source": [
    "### Q5: List vs Tuple mutability"
   ]
  },
  {
   "cell_type": "code",
   "execution_count": null,
   "id": "d24aa39b",
   "metadata": {},
   "outputs": [],
   "source": [
    "my_list = [1, 2, 3]\n",
    "my_tuple = (1, 2, 3)\n",
    "my_list[0] = 10\n",
    "print(\"Modified List:\", my_list)\n",
    "# my_tuple[0] = 10  # Error"
   ]
  },
  {
   "cell_type": "markdown",
   "id": "cab33f2c",
   "metadata": {},
   "source": [
    "### Q6: Mutable vs Immutable arguments"
   ]
  },
  {
   "cell_type": "code",
   "execution_count": null,
   "id": "26873e76",
   "metadata": {},
   "outputs": [],
   "source": [
    "def modify_objects(num, my_list):\n",
    "    num += 10\n",
    "    my_list.append(10)\n",
    "    return num, my_list\n",
    "\n",
    "n = 5\n",
    "lst = [1, 2, 3]\n",
    "print(modify_objects(n, lst))\n",
    "print(\"Original n:\", n)\n",
    "print(\"Original list:\", lst)"
   ]
  },
  {
   "cell_type": "markdown",
   "id": "59c32cf9",
   "metadata": {},
   "source": [
    "### Q7: Arithmetic operations"
   ]
  },
  {
   "cell_type": "code",
   "execution_count": null,
   "id": "82a4e5e0",
   "metadata": {},
   "outputs": [],
   "source": [
    "a = int(input(\"Enter first number: \"))\n",
    "b = int(input(\"Enter second number: \"))\n",
    "print(\"Addition:\", a+b)\n",
    "print(\"Subtraction:\", a-b)\n",
    "print(\"Multiplication:\", a*b)\n",
    "print(\"Division:\", a/b if b!=0 else \"Undefined\")"
   ]
  },
  {
   "cell_type": "markdown",
   "id": "19800a60",
   "metadata": {},
   "source": [
    "### Q8: Logical operators"
   ]
  },
  {
   "cell_type": "code",
   "execution_count": null,
   "id": "6d95be83",
   "metadata": {},
   "outputs": [],
   "source": [
    "x = 5\n",
    "y = 10\n",
    "print(x > 0 and y > 0)\n",
    "print(x > 10 or y > 0)\n",
    "print(not(x > 0))"
   ]
  },
  {
   "cell_type": "markdown",
   "id": "6447cd51",
   "metadata": {},
   "source": [
    "### Q9: Convert input types"
   ]
  },
  {
   "cell_type": "code",
   "execution_count": null,
   "id": "d37173fa",
   "metadata": {},
   "outputs": [],
   "source": [
    "s = input(\"Enter a number: \")\n",
    "print(\"As integer:\", int(s))\n",
    "print(\"As float:\", float(s))\n",
    "print(\"As boolean:\", bool(s))"
   ]
  },
  {
   "cell_type": "markdown",
   "id": "93f62c80",
   "metadata": {},
   "source": [
    "### Q10: Type casting list elements"
   ]
  },
  {
   "cell_type": "code",
   "execution_count": null,
   "id": "b9a4b7ee",
   "metadata": {},
   "outputs": [],
   "source": [
    "numbers = [\"1\", \"2\", \"3\"]\n",
    "int_numbers = [int(x) for x in numbers]\n",
    "print(int_numbers)"
   ]
  },
  {
   "cell_type": "markdown",
   "id": "fa774026",
   "metadata": {},
   "source": [
    "### Q11: Check positive, negative, or zero"
   ]
  },
  {
   "cell_type": "code",
   "execution_count": null,
   "id": "b8d7504a",
   "metadata": {},
   "outputs": [],
   "source": [
    "num = int(input(\"Enter a number: \"))\n",
    "if num > 0:\n",
    "    print(\"Positive\")\n",
    "elif num < 0:\n",
    "    print(\"Negative\")\n",
    "else:\n",
    "    print(\"Zero\")"
   ]
  },
  {
   "cell_type": "markdown",
   "id": "78a47d30",
   "metadata": {},
   "source": [
    "### Q12: Print numbers 1 to 10"
   ]
  },
  {
   "cell_type": "code",
   "execution_count": null,
   "id": "40b3392e",
   "metadata": {},
   "outputs": [],
   "source": [
    "for i in range(1, 11):\n",
    "    print(i, end=\" \")"
   ]
  },
  {
   "cell_type": "markdown",
   "id": "0a11a000",
   "metadata": {},
   "source": [
    "### Q13: Sum of even numbers"
   ]
  },
  {
   "cell_type": "code",
   "execution_count": null,
   "id": "675e559c",
   "metadata": {},
   "outputs": [],
   "source": [
    "even_sum = sum(i for i in range(1, 51) if i % 2 == 0)\n",
    "print(\"Sum of even numbers:\", even_sum)"
   ]
  },
  {
   "cell_type": "markdown",
   "id": "0c57a81e",
   "metadata": {},
   "source": [
    "### Q14: Reverse string using while loop"
   ]
  },
  {
   "cell_type": "code",
   "execution_count": null,
   "id": "dfaea550",
   "metadata": {},
   "outputs": [],
   "source": [
    "s = input(\"Enter a string: \")\n",
    "rev = \"\"\n",
    "i = len(s)-1\n",
    "while i >= 0:\n",
    "    rev += s[i]\n",
    "    i -= 1\n",
    "print(\"Reversed:\", rev)"
   ]
  },
  {
   "cell_type": "markdown",
   "id": "86cb5c95",
   "metadata": {},
   "source": [
    "### Q15: Factorial using while loop"
   ]
  },
  {
   "cell_type": "code",
   "execution_count": null,
   "id": "78cccea2",
   "metadata": {},
   "outputs": [],
   "source": [
    "num = int(input(\"Enter a number: \"))\n",
    "fact = 1\n",
    "i = 1\n",
    "while i <= num:\n",
    "    fact *= i\n",
    "    i += 1\n",
    "print(\"Factorial:\", fact)"
   ]
  }
 ],
 "metadata": {},
 "nbformat": 4,
 "nbformat_minor": 5
}